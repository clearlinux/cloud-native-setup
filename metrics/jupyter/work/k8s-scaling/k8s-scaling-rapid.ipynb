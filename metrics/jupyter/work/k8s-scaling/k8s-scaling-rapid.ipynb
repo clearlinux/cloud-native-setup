{
 "cells": [
  {
   "cell_type": "code",
   "execution_count": null,
   "metadata": {},
   "outputs": [],
   "source": [
    "# PUll in the Env file set up by the run script, to get our environment set up\n",
    "source(\"/home/jovyan/inputdir/Env.R\")"
   ]
  },
  {
   "cell_type": "code",
   "execution_count": null,
   "metadata": {
    "scrolled": false
   },
   "outputs": [],
   "source": [
    "# Load our Rmarkdown R file for the scaling test - this will get rendered as ggplot/Rmarkdown here...\n",
    "# and we will then re-render some parts as interactive charts further down.\n",
    "source(paste(scriptdir, 'collectd_scaling.R', sep='/'))\n"
   ]
  },
  {
   "cell_type": "code",
   "execution_count": null,
   "metadata": {},
   "outputs": [],
   "source": [
    "# And now re-render some of those charts as plotly interactive charts.\n",
    "library(plotly)\n",
    "p = ggplotly(cpu_line_plot)\n",
    "\n",
    "suppressWarnings(embed_notebook(p))"
   ]
  },
  {
   "cell_type": "code",
   "execution_count": null,
   "metadata": {},
   "outputs": [],
   "source": [
    "# And now re-render some of those charts as plotly interactive charts.\n",
    "library(plotly)\n",
    "p = ggplotly(interface_octet_line_plot)\n",
    "\n",
    "suppressWarnings(embed_notebook(p))"
   ]
  },
  {
   "cell_type": "code",
   "execution_count": null,
   "metadata": {},
   "outputs": [],
   "source": []
  }
 ],
 "metadata": {
  "kernelspec": {
   "display_name": "R",
   "language": "R",
   "name": "ir"
  },
  "language_info": {
   "codemirror_mode": "r",
   "file_extension": ".r",
   "mimetype": "text/x-r-source",
   "name": "R",
   "pygments_lexer": "r",
   "version": "3.6.1"
  }
 },
 "nbformat": 4,
 "nbformat_minor": 2
}
